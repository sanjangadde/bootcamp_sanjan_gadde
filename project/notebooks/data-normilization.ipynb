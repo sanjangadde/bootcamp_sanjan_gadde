{
 "cells": [
  {
   "cell_type": "code",
   "execution_count": 2,
   "id": "4f492738",
   "metadata": {},
   "outputs": [],
   "source": [
    "import os\n",
    "import pandas as pd\n",
    "import numpy as np\n",
    "import pandas as pd\n",
    "import sys\n",
    "sys.path.insert(0,'../')\n",
    "from src import cleaning\n",
    "import pathlib\n",
    "from dotenv import load_dotenv\n",
    "load_dotenv()\n",
    "RAW = pathlib.Path(os.getcwd() + '/../'+os.getenv('DATA_DIR_RAW'))\n",
    "PROC = pathlib.Path(os.getcwd() + '/../'+os.getenv('DATA_DIR_PROCESSED'))\n",
    "RAW.mkdir(parents=True, exist_ok=True)\n",
    "PROC.mkdir(parents=True, exist_ok=True)\n",
    "TICKERS = [\"AAPL\", \"MSFT\", \"GOOGL\", \"AMZN\", \"META\"]"
   ]
  },
  {
   "cell_type": "code",
   "execution_count": 5,
   "id": "f27fc464",
   "metadata": {},
   "outputs": [],
   "source": [
    "global_df_list = []\n",
    "for ticker in TICKERS:\n",
    "    df = pd.read_csv(f'{RAW.absolute()}/{ticker}_daily.csv')\n",
    "    df_cleaned = df.copy()\n",
    "    df_cleaned = cleaning.fill_missing_median(df_cleaned)\n",
    "    df_cleaned = cleaning.drop_missing(df_cleaned, threshold=0.5)\n",
    "    df_cleaned = cleaning.normalize_data(df_cleaned)\n",
    "    global_df_list.append(df_cleaned)\n",
    "global_df = pd.concat(global_df_list)\n",
    "global_df.to_csv('../data/processed/combined_cleaned_data.csv', index=False)"
   ]
  }
 ],
 "metadata": {
  "kernelspec": {
   "display_name": "conda_env",
   "language": "python",
   "name": "python3"
  },
  "language_info": {
   "codemirror_mode": {
    "name": "ipython",
    "version": 3
   },
   "file_extension": ".py",
   "mimetype": "text/x-python",
   "name": "python",
   "nbconvert_exporter": "python",
   "pygments_lexer": "ipython3",
   "version": "3.13.5"
  }
 },
 "nbformat": 4,
 "nbformat_minor": 5
}
