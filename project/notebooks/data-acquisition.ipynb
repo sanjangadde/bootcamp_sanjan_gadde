{
 "cells": [
  {
   "cell_type": "markdown",
   "id": "98c4e85d",
   "metadata": {},
   "source": [
    "\n",
    "# Stock Correlation Explorer — Data Acquisition (Alpha Vantage)\n",
    "\n",
    "This notebook implements the **Data Acquisition** stage of the Stock Correlation Explorer project.  \n",
    "It fetches daily adjusted stock prices for selected tickers using the [Alpha Vantage API](https://www.alphavantage.co/).\n",
    "\n",
    "Notes:\n",
    "- You need a free API key from Alpha Vantage.  \n",
    "- Free tier allows 5 requests per minute.  \n"
   ]
  },
  {
   "cell_type": "code",
   "execution_count": 29,
   "id": "d6c03082",
   "metadata": {},
   "outputs": [],
   "source": [
    "\n",
    "import os, time, requests\n",
    "import pandas as pd\n",
    "from pathlib import Path\n",
    "from dotenv import load_dotenv\n",
    "# Load API key from .env if available\n",
    "load_dotenv()\n",
    "API_KEY = os.getenv(\"ALPHAVANTAGE_API_KEY\")\n",
    "\n",
    "# Directory for saving prices\n",
    "DATA_DIR_RAW = Path(os.getcwd() + '/../' + os.getenv(\"DATA_DIR_RAW\"))\n",
    "DATA_DIR_RAW.mkdir(parents=True, exist_ok=True)\n",
    "\n",
    "# Example tickers\n",
    "TICKERS = [\"AAPL\", \"MSFT\", \"GOOGL\", \"AMZN\", \"META\"]\n"
   ]
  },
  {
   "cell_type": "markdown",
   "id": "4e8677ce",
   "metadata": {},
   "source": [
    "\n",
    "## 2. Helper Functions\n"
   ]
  },
  {
   "cell_type": "code",
   "execution_count": 30,
   "id": "ad057756",
   "metadata": {},
   "outputs": [],
   "source": [
    "def fetch_daily_adjusted(symbol: str, api_key: str) -> pd.DataFrame:\n",
    "    url = 'https://www.alphavantage.co/query'\n",
    "    params = {'function':'TIME_SERIES_DAILY','symbol':symbol,'apikey':api_key}\n",
    "\n",
    "    r = requests.get(url, params=params, timeout=30)\n",
    "    data = r.json()\n",
    "    print(data)\n",
    "    if \"Time Series (Daily)\" not in data:\n",
    "        import yfinance as yf\n",
    "        df = yf.download(symbol, period='3mo', interval='1d').reset_index()[['Date', 'Close']]\n",
    "        df.columns = ['date','close']\n",
    "        df[\"ticker\"] = symbol\n",
    "    \n",
    "    else:\n",
    "        ts = data[\"Time Series (Daily)\"]\n",
    "        df = pd.DataFrame.from_dict(ts, orient=\"index\").rename(columns={\n",
    "            'index':'date',\n",
    "            '4. close':'close'\n",
    "        })\n",
    "        df.index = pd.to_datetime(df.index)\n",
    "        for col in df.columns:\n",
    "            df[col] = pd.to_numeric(df[col], errors=\"coerce\")\n",
    "        df[\"ticker\"] = symbol\n",
    "    return df.sort_index()\n",
    "\n",
    "def cache_ticker(symbol: str, api_key: str, pause: int = 15) -> Path:\n",
    "    out_path = DATA_DIR_RAW.absolute() / f\"{symbol}_daily.csv\"\n",
    "    if out_path.exists():\n",
    "        print(f\"Cached file exists for {symbol}, skipping fetch.\")\n",
    "        return out_path\n",
    "    df = fetch_daily_adjusted(symbol, api_key)\n",
    "    df.to_csv(out_path, index=False)\n",
    "    print(f\"Saved {symbol} → {out_path}\")\n",
    "    time.sleep(pause)  # respect rate limits\n",
    "    return out_path\n"
   ]
  },
  {
   "cell_type": "markdown",
   "id": "d33ff7ef",
   "metadata": {},
   "source": [
    "\n",
    "## 3. Fetch Data\n"
   ]
  },
  {
   "cell_type": "code",
   "execution_count": 31,
   "id": "91da14b9",
   "metadata": {},
   "outputs": [
    {
     "name": "stdout",
     "output_type": "stream",
     "text": [
      "{'Information': 'We have detected your API key as HCRXXKWCVDCGJENI and our standard API rate limit is 25 requests per day. Please subscribe to any of the premium plans at https://www.alphavantage.co/premium/ to instantly remove all daily rate limits.'}\n"
     ]
    },
    {
     "name": "stderr",
     "output_type": "stream",
     "text": [
      "/var/folders/wq/2jtf6w311pd7bbz2vzm9vvkm0000gn/T/ipykernel_28928/2953378190.py:10: FutureWarning: YF.download() has changed argument auto_adjust default to True\n",
      "  df = yf.download(symbol, period='3mo', interval='1d').reset_index()[['Date', 'Close']]\n",
      "[*********************100%***********************]  1 of 1 completed\n"
     ]
    },
    {
     "name": "stdout",
     "output_type": "stream",
     "text": [
      "Saved AAPL → /Users/sanjangadde/bootcamp_sanjan_gadde/project/notebooks/../data/raw/AAPL_daily.csv\n"
     ]
    },
    {
     "name": "stderr",
     "output_type": "stream",
     "text": [
      "/var/folders/wq/2jtf6w311pd7bbz2vzm9vvkm0000gn/T/ipykernel_28928/2953378190.py:10: FutureWarning: YF.download() has changed argument auto_adjust default to True\n",
      "  df = yf.download(symbol, period='3mo', interval='1d').reset_index()[['Date', 'Close']]\n",
      "[*********************100%***********************]  1 of 1 completed"
     ]
    },
    {
     "name": "stdout",
     "output_type": "stream",
     "text": [
      "{'Information': 'We have detected your API key as HCRXXKWCVDCGJENI and our standard API rate limit is 25 requests per day. Please subscribe to any of the premium plans at https://www.alphavantage.co/premium/ to instantly remove all daily rate limits.'}\n",
      "Saved MSFT → /Users/sanjangadde/bootcamp_sanjan_gadde/project/notebooks/../data/raw/MSFT_daily.csv\n"
     ]
    },
    {
     "name": "stderr",
     "output_type": "stream",
     "text": [
      "\n",
      "/var/folders/wq/2jtf6w311pd7bbz2vzm9vvkm0000gn/T/ipykernel_28928/2953378190.py:10: FutureWarning: YF.download() has changed argument auto_adjust default to True\n",
      "  df = yf.download(symbol, period='3mo', interval='1d').reset_index()[['Date', 'Close']]\n",
      "[*********************100%***********************]  1 of 1 completed"
     ]
    },
    {
     "name": "stdout",
     "output_type": "stream",
     "text": [
      "{'Information': 'We have detected your API key as HCRXXKWCVDCGJENI and our standard API rate limit is 25 requests per day. Please subscribe to any of the premium plans at https://www.alphavantage.co/premium/ to instantly remove all daily rate limits.'}\n",
      "Saved GOOGL → /Users/sanjangadde/bootcamp_sanjan_gadde/project/notebooks/../data/raw/GOOGL_daily.csv\n"
     ]
    },
    {
     "name": "stderr",
     "output_type": "stream",
     "text": [
      "\n",
      "/var/folders/wq/2jtf6w311pd7bbz2vzm9vvkm0000gn/T/ipykernel_28928/2953378190.py:10: FutureWarning: YF.download() has changed argument auto_adjust default to True\n",
      "  df = yf.download(symbol, period='3mo', interval='1d').reset_index()[['Date', 'Close']]\n",
      "[*********************100%***********************]  1 of 1 completed"
     ]
    },
    {
     "name": "stdout",
     "output_type": "stream",
     "text": [
      "{'Information': 'We have detected your API key as HCRXXKWCVDCGJENI and our standard API rate limit is 25 requests per day. Please subscribe to any of the premium plans at https://www.alphavantage.co/premium/ to instantly remove all daily rate limits.'}\n",
      "Saved AMZN → /Users/sanjangadde/bootcamp_sanjan_gadde/project/notebooks/../data/raw/AMZN_daily.csv\n"
     ]
    },
    {
     "name": "stderr",
     "output_type": "stream",
     "text": [
      "\n",
      "/var/folders/wq/2jtf6w311pd7bbz2vzm9vvkm0000gn/T/ipykernel_28928/2953378190.py:10: FutureWarning: YF.download() has changed argument auto_adjust default to True\n",
      "  df = yf.download(symbol, period='3mo', interval='1d').reset_index()[['Date', 'Close']]\n",
      "[*********************100%***********************]  1 of 1 completed"
     ]
    },
    {
     "name": "stdout",
     "output_type": "stream",
     "text": [
      "{'Information': 'We have detected your API key as HCRXXKWCVDCGJENI and our standard API rate limit is 25 requests per day. Please subscribe to any of the premium plans at https://www.alphavantage.co/premium/ to instantly remove all daily rate limits.'}\n",
      "Saved META → /Users/sanjangadde/bootcamp_sanjan_gadde/project/notebooks/../data/raw/META_daily.csv\n"
     ]
    },
    {
     "name": "stderr",
     "output_type": "stream",
     "text": [
      "\n"
     ]
    }
   ],
   "source": [
    "\n",
    "for ticker in TICKERS:\n",
    "    try:\n",
    "        cache_ticker(ticker, API_KEY)\n",
    "    except Exception as e:\n",
    "        print(\"Error:\", e)\n"
   ]
  }
 ],
 "metadata": {
  "kernelspec": {
   "display_name": "conda_env",
   "language": "python",
   "name": "python3"
  },
  "language_info": {
   "codemirror_mode": {
    "name": "ipython",
    "version": 3
   },
   "file_extension": ".py",
   "mimetype": "text/x-python",
   "name": "python",
   "nbconvert_exporter": "python",
   "pygments_lexer": "ipython3",
   "version": "3.13.5"
  }
 },
 "nbformat": 4,
 "nbformat_minor": 5
}
