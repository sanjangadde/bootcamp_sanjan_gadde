{
 "cells": [
  {
   "cell_type": "code",
   "execution_count": 23,
   "id": "f1c10750",
   "metadata": {},
   "outputs": [
    {
     "name": "stdout",
     "output_type": "stream",
     "text": [
      "RAW -> /Users/sanjangadde/bootcamp_sanjan_gadde/project/data/raw\n",
      "PROC -> /Users/sanjangadde/bootcamp_sanjan_gadde/project/data/processed\n"
     ]
    }
   ],
   "source": [
    "import os, pathlib, datetime as dt\n",
    "import pandas as pd\n",
    "from dotenv import load_dotenv\n",
    "load_dotenv()\n",
    "RAW = pathlib.Path(os.getcwd() + '/../'+os.getenv('DATA_DIR_RAW'))\n",
    "PROC = pathlib.Path(os.getcwd() + '/../'+os.getenv('DATA_DIR_PROCESSED'))\n",
    "RAW.mkdir(parents=True, exist_ok=True)\n",
    "PROC.mkdir(parents=True, exist_ok=True)\n",
    "print('RAW ->', RAW.resolve())\n",
    "print('PROC ->', PROC.resolve())\n",
    "TICKERS = [\"AAPL\", \"MSFT\", \"GOOGL\", \"AMZN\", \"META\"]\n"
   ]
  },
  {
   "cell_type": "code",
   "execution_count": 24,
   "id": "795e0773",
   "metadata": {},
   "outputs": [],
   "source": [
    "def validate_loaded(original, reloaded):\n",
    "    checks = {\n",
    "        'shape_equal': original.shape == reloaded.shape,\n",
    "        'date_is_datetime': pd.api.types.is_datetime64_any_dtype(reloaded['date']) if 'date' in reloaded.columns else False,\n",
    "        'price_is_numeric': pd.api.types.is_numeric_dtype(reloaded['price']) if 'price' in reloaded.columns else False,\n",
    "    }\n",
    "    return checks"
   ]
  },
  {
   "cell_type": "code",
   "execution_count": 25,
   "id": "566de2c9",
   "metadata": {},
   "outputs": [
    {
     "name": "stdout",
     "output_type": "stream",
     "text": [
      "{'shape_equal': True, 'date_is_datetime': True, 'price_is_numeric': False}\n"
     ]
    }
   ],
   "source": [
    "for ticker in TICKERS:\n",
    "    csv_path = RAW / f\"{ticker}_daily.csv\"\n",
    "    df = pd.read_csv(csv_path, parse_dates=['date'])\n",
    "\n",
    "    pq_path = PROC / f\"{ticker}_daily.parquet\"\n",
    "    try:\n",
    "        df.to_parquet(pq_path)\n",
    "    except Exception as e:\n",
    "        print('Parquet engine not available. Install pyarrow or fastparquet to complete this step.')\n",
    "        pq_path = None\n",
    "if pq_path:\n",
    "    try:\n",
    "        df_pq = pd.read_parquet(pq_path)\n",
    "        print(validate_loaded(df, df_pq))\n",
    "    except Exception as e:\n",
    "        print('Parquet read failed:', e)"
   ]
  }
 ],
 "metadata": {
  "kernelspec": {
   "display_name": "conda_env",
   "language": "python",
   "name": "python3"
  },
  "language_info": {
   "codemirror_mode": {
    "name": "ipython",
    "version": 3
   },
   "file_extension": ".py",
   "mimetype": "text/x-python",
   "name": "python",
   "nbconvert_exporter": "python",
   "pygments_lexer": "ipython3",
   "version": "3.13.5"
  }
 },
 "nbformat": 4,
 "nbformat_minor": 5
}
