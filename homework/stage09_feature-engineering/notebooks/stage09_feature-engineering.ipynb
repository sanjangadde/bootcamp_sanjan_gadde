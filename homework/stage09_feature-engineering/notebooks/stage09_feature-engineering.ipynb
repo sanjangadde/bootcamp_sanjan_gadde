{
 "cells": [
  {
   "cell_type": "markdown",
   "metadata": {},
   "source": [
    "# Stage 09 — Homework Starter Notebook\n",
    "\n",
    "In the lecture, we learned how to create engineered features. Now it’s your turn to apply those ideas to your own project data."
   ]
  },
  {
   "cell_type": "code",
   "execution_count": null,
   "metadata": {},
   "outputs": [
    {
     "name": "stdout",
     "output_type": "stream",
     "text": [
      "DataFrame 0 -> ticker: AAPL\n",
      "DataFrame 1 -> ticker: AMZN\n",
      "DataFrame 2 -> ticker: GOOGL\n",
      "DataFrame 3 -> ticker: META\n",
      "DataFrame 4 -> ticker: MSFT\n"
     ]
    },
    {
     "data": {
      "text/html": [
       "<div>\n",
       "<style scoped>\n",
       "    .dataframe tbody tr th:only-of-type {\n",
       "        vertical-align: middle;\n",
       "    }\n",
       "\n",
       "    .dataframe tbody tr th {\n",
       "        vertical-align: top;\n",
       "    }\n",
       "\n",
       "    .dataframe thead th {\n",
       "        text-align: right;\n",
       "    }\n",
       "</style>\n",
       "<table border=\"1\" class=\"dataframe\">\n",
       "  <thead>\n",
       "    <tr style=\"text-align: right;\">\n",
       "      <th></th>\n",
       "      <th>date</th>\n",
       "      <th>close</th>\n",
       "      <th>ticker</th>\n",
       "    </tr>\n",
       "  </thead>\n",
       "  <tbody>\n",
       "    <tr>\n",
       "      <th>0</th>\n",
       "      <td>2025-05-21</td>\n",
       "      <td>0.177952</td>\n",
       "      <td>AAPL</td>\n",
       "    </tr>\n",
       "    <tr>\n",
       "      <th>1</th>\n",
       "      <td>2025-05-22</td>\n",
       "      <td>0.158905</td>\n",
       "      <td>AAPL</td>\n",
       "    </tr>\n",
       "    <tr>\n",
       "      <th>2</th>\n",
       "      <td>2025-05-23</td>\n",
       "      <td>0.000000</td>\n",
       "      <td>AAPL</td>\n",
       "    </tr>\n",
       "    <tr>\n",
       "      <th>3</th>\n",
       "      <td>2025-05-27</td>\n",
       "      <td>0.128898</td>\n",
       "      <td>AAPL</td>\n",
       "    </tr>\n",
       "    <tr>\n",
       "      <th>4</th>\n",
       "      <td>2025-05-28</td>\n",
       "      <td>0.134377</td>\n",
       "      <td>AAPL</td>\n",
       "    </tr>\n",
       "  </tbody>\n",
       "</table>\n",
       "</div>"
      ],
      "text/plain": [
       "         date     close ticker\n",
       "0  2025-05-21  0.177952   AAPL\n",
       "1  2025-05-22  0.158905   AAPL\n",
       "2  2025-05-23  0.000000   AAPL\n",
       "3  2025-05-27  0.128898   AAPL\n",
       "4  2025-05-28  0.134377   AAPL"
      ]
     },
     "execution_count": 3,
     "metadata": {},
     "output_type": "execute_result"
    }
   ],
   "source": [
    "import pandas as pd\n",
    "import numpy as np\n",
    "\n",
    "# Example synthetic data (replace with your project dataset)\n",
    "df = pd.read_csv('../data/combined_cleaned_data.csv')\n",
    "dfs = [group for _, group in df.groupby(\"ticker\")]\n",
    "for i, d in enumerate(dfs):\n",
    "    print(f\"DataFrame {i} -> ticker: {d['ticker'].iloc[0]}\")"
   ]
  },
  {
   "cell_type": "markdown",
   "metadata": {},
   "source": [
    "## TODO: Implement at least 2 engineered features here"
   ]
  },
  {
   "cell_type": "code",
   "execution_count": null,
   "metadata": {},
   "outputs": [
    {
     "name": "stdout",
     "output_type": "stream",
     "text": [
      "Correlation matrix:\n",
      "ticker      AAPL      AMZN     GOOGL      META      MSFT\n",
      "ticker                                                  \n",
      "AAPL    1.000000 -0.026750 -0.083966  0.103872  0.106449\n",
      "AMZN   -0.026750  1.000000  0.196199  0.114771  0.617089\n",
      "GOOGL  -0.083966  0.196199  1.000000  0.160465  0.179889\n",
      "META    0.103872  0.114771  0.160465  1.000000  0.563081\n",
      "MSFT    0.106449  0.617089  0.179889  0.563081  1.000000\n",
      "\n",
      "30-day rolling correlation between AAPL and AMZN:\n",
      "date\n",
      "2025-07-10   -0.133919\n",
      "2025-07-11   -0.150631\n",
      "2025-07-14   -0.138647\n",
      "2025-07-15   -0.140356\n",
      "2025-07-16   -0.132472\n",
      "dtype: float64\n"
     ]
    }
   ],
   "source": [
    "# Assume dfs is your list of 5 ticker dataframes\n",
    "# First, concatenate them back together\n",
    "df\n",
    "# Make sure date is datetime\n",
    "df['date'] = pd.to_datetime(df['date'])\n",
    "\n",
    "# Pivot to have one column per ticker\n",
    "pivot_df = df.pivot(index=\"date\", columns=\"ticker\", values=\"close\")\n",
    "pivot_df = pivot_df.sort_index()\n",
    "\n",
    "# 1. Calculate daily returns (% change)\n",
    "returns = pivot_df.pct_change()\n",
    "\n",
    "# 2. Correlation matrix of returns\n",
    "corr_matrix = returns.corr()\n",
    "\n",
    "# 3. Example: 30-day rolling correlation between first two tickers\n",
    "rolling_corr = returns[returns.columns[0]].rolling(30).corr(returns[returns.columns[1]])\n",
    "\n",
    "print(\"Correlation matrix:\")\n",
    "print(corr_matrix)\n",
    "\n",
    "print(f\"\\n30-day rolling correlation between {returns.columns[0]} and {returns.columns[1]}:\")\n",
    "print(rolling_corr.dropna().head())\n"
   ]
  },
  {
   "cell_type": "markdown",
   "metadata": {},
   "source": [
    "### Rationale for Feature 1\n",
    "Explain why this feature may help a model. Reference your EDA."
   ]
  },
  {
   "cell_type": "code",
   "execution_count": 19,
   "metadata": {},
   "outputs": [
    {
     "name": "stdout",
     "output_type": "stream",
     "text": [
      "ticker          AAPL      AMZN     GOOGL      META      MSFT\n",
      "date                                                        \n",
      "2025-07-09  0.894790  2.794314  0.809217  0.323487  0.292618\n",
      "2025-07-10  0.893044  0.322302  0.802437  0.323747  0.238714\n",
      "2025-07-11  0.864544  0.257592  0.794735  0.258317  0.139339\n",
      "2025-07-14  0.867105  0.250385  0.793567  0.258421  0.120550\n",
      "2025-07-15  0.865653  0.247975  0.792704  0.260673  0.118697\n",
      "2025-07-16  0.866228  0.247357  0.792166  0.261946  0.116735\n",
      "2025-07-17  0.867398  0.238908  0.784360  0.163718  0.115665\n",
      "2025-07-18  0.867967  0.235314  0.762648  0.162260  0.116590\n",
      "2025-07-21  0.866680  0.230577  0.647018  0.132913  0.116976\n",
      "2025-07-22  0.861138  0.231416  0.647074  0.133816  0.111302\n",
      "2025-07-23  0.859940  0.180582  0.553081  0.129002  0.109321\n",
      "2025-07-24  0.855683  0.176064  0.551431  0.128497  0.108731\n",
      "2025-07-25  0.856806  0.176229  0.550771  0.126822  0.106504\n",
      "2025-07-28  0.845716  0.167868  0.550166  0.125229  0.106706\n",
      "2025-07-29  0.848682  0.168532  0.548706  0.130680  0.096493\n",
      "2025-07-30  0.832986  0.167335  0.547735  0.127733  0.091535\n",
      "2025-07-31  0.792398  0.156700  0.548845  0.235813  0.102943\n",
      "2025-08-01  0.774702  0.191215  0.549187  0.237819  0.105680\n",
      "2025-08-04  0.639892  0.193333  0.546576  0.239880  0.107719\n",
      "2025-08-05  0.196339  0.190548  0.519116  0.237055  0.107629\n",
      "2025-08-06  0.310419  0.222206  0.474430  0.232471  0.094550\n",
      "2025-08-07  0.313714  0.221216  0.182725  0.232856  0.095486\n",
      "2025-08-08  0.316542  0.206910  0.163016  0.230480  0.093539\n",
      "2025-08-11  0.317425  0.196632  0.128157  0.230505  0.093161\n",
      "2025-08-12  0.295752  0.193250  0.121675  0.232062  0.094439\n",
      "2025-08-13  0.293542  0.194557  0.121695  0.229678  0.094247\n",
      "2025-08-14  0.288285  0.199314  0.114837  0.229019  0.093877\n",
      "2025-08-15  0.288703  0.197432  0.114773  0.228984  0.088920\n",
      "2025-08-18  0.285235  0.197384  0.106688  0.230456  0.089314\n",
      "2025-08-19  0.285331  0.195201  0.097074  0.231959  0.091941\n",
      "2025-08-20  0.287283  0.196308  0.091877  0.231365  0.089335\n"
     ]
    }
   ],
   "source": [
    "# TODO: Add another feature\n",
    "import math\n",
    "returns.replace([np.inf, -np.inf], np.nan, inplace=True)\n",
    "returns = returns.dropna()\n",
    "rolling_volatility = returns.rolling(window=30).std()\n",
    "clean_df = rolling_volatility.dropna(how='all')\n",
    "print(clean_df)\n"
   ]
  },
  {
   "cell_type": "markdown",
   "metadata": {},
   "source": [
    "### Rationale for Feature 2\n",
    "Explain why this feature may help a model. Reference your EDA."
   ]
  }
 ],
 "metadata": {
  "kernelspec": {
   "display_name": "conda_env",
   "language": "python",
   "name": "python3"
  },
  "language_info": {
   "codemirror_mode": {
    "name": "ipython",
    "version": 3
   },
   "file_extension": ".py",
   "mimetype": "text/x-python",
   "name": "python",
   "nbconvert_exporter": "python",
   "pygments_lexer": "ipython3",
   "version": "3.13.5"
  }
 },
 "nbformat": 4,
 "nbformat_minor": 5
}
