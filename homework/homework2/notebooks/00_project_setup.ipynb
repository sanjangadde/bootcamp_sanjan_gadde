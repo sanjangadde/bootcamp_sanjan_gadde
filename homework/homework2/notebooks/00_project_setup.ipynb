{
 "cells": [
  {
   "cell_type": "markdown",
   "id": "5a35b67a",
   "metadata": {},
   "source": [
    "# Environment and Config Check"
   ]
  },
  {
   "cell_type": "code",
   "execution_count": 3,
   "id": "b221b5c0",
   "metadata": {},
   "outputs": [
    {
     "name": "stdout",
     "output_type": "stream",
     "text": [
      "API_KEY present: True\n"
     ]
    }
   ],
   "source": [
    "import os\n",
    "from dotenv import load_dotenv\n",
    "load_dotenv()\n",
    "\n",
    "API_KEY = os.getenv(\"API_KEY\")\n",
    "if API_KEY:\n",
    "    key_exists = True if API_KEY else False\n",
    "    print(f\"API_KEY present: {key_exists}\")"
   ]
  },
  {
   "cell_type": "code",
   "execution_count": 5,
   "id": "8172a074",
   "metadata": {},
   "outputs": [
    {
     "name": "stdout",
     "output_type": "stream",
     "text": [
      "[2 4 6 8]\n"
     ]
    }
   ],
   "source": [
    "import numpy as np\n",
    "\n",
    "arr = np.array([1,2,3,4])\n",
    "new_arr = arr * 2\n",
    "print(new_arr)"
   ]
  }
 ],
 "metadata": {
  "kernelspec": {
   "display_name": "env",
   "language": "python",
   "name": "python3"
  },
  "language_info": {
   "codemirror_mode": {
    "name": "ipython",
    "version": 3
   },
   "file_extension": ".py",
   "mimetype": "text/x-python",
   "name": "python",
   "nbconvert_exporter": "python",
   "pygments_lexer": "ipython3",
   "version": "3.12.9"
  }
 },
 "nbformat": 4,
 "nbformat_minor": 5
}
